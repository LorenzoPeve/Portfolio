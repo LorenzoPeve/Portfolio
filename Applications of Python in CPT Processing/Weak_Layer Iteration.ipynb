{
 "cells": [
  {
   "cell_type": "code",
   "execution_count": null,
   "id": "0f77ad0a",
   "metadata": {},
   "outputs": [],
   "source": [
    "import numpy as np\n",
    "import os\n",
    "import pandas as pd\n",
    "path = r'C:\\Users\\LPeve\\Desktop\\GEAG Seminar Talk'\n",
    "os.chdir(path)\n",
    "%run plottingCPT.py"
   ]
  },
  {
   "cell_type": "markdown",
   "id": "c5059b7b",
   "metadata": {},
   "source": [
    "## Sample CPT"
   ]
  },
  {
   "cell_type": "code",
   "execution_count": null,
   "id": "70120ccc",
   "metadata": {},
   "outputs": [],
   "source": [
    "cpt_name = 'CPT-AR-12F'\n",
    "parameter = 'Tip Res.'\n",
    "path = r'C:\\Users\\LPeve\\Desktop\\GEAG Seminar Talk\\P16'\n",
    "os.chdir(path)\n",
    "df = pd.read_csv('COMPILED_CPTs.csv', header=0,index_col = [0,1])  "
   ]
  },
  {
   "cell_type": "code",
   "execution_count": null,
   "id": "9a628985",
   "metadata": {
    "scrolled": true
   },
   "outputs": [],
   "source": [
    "#plotMapper.keys()\n",
    "xvals = df.loc[cpt_name,parameter]\n",
    "   \n",
    "fig = plotCPT(xArr = xvals,\n",
    "              yArr = df.loc[cpt_name, 'Elevation'],\n",
    "              depthArr = df.loc[cpt_name, 'Depth'], \n",
    "              plotParams = plotMapper['Tip_Resistance'], graphWidth = 400, graphHeight = 800, lWidth = 2)\n",
    "fig.show()"
   ]
  },
  {
   "cell_type": "code",
   "execution_count": null,
   "id": "b1e29ce6",
   "metadata": {},
   "outputs": [],
   "source": [
    "filt_1 = df.loc[cpt_name, 'Layer IDX'] == 'CCR'\n",
    "filt_2 = df.loc[cpt_name, 'Elevation'].between(7.5,8.5)\n",
    "filt_3 = df.loc[cpt_name, 'Tip Res.'] <= 15\n",
    "df_filt = df.loc[cpt_name].loc[filt_1 & filt_2 & filt_3]\n",
    "print(len(df_filt) * 0.065 > 0.9*1)\n",
    "df_filt.head()"
   ]
  },
  {
   "cell_type": "markdown",
   "id": "b545efc6",
   "metadata": {},
   "source": [
    "-------------------------"
   ]
  },
  {
   "cell_type": "markdown",
   "id": "58dda62a",
   "metadata": {},
   "source": [
    "## P16 Iteration"
   ]
  },
  {
   "cell_type": "markdown",
   "id": "3ff7cdf2",
   "metadata": {},
   "source": [
    "path = r'C:\\Users\\LPeve\\Desktop\\GEAG Seminar Talk\\P16'\n",
    "os.chdir(path)\n",
    "df = pd.read_csv('COMPILED_CPTs.csv', header=0,index_col = [0,1])    \n",
    "\n",
    "ptcArr_16 = [None] * ( len(df.index.get_level_values(0).unique()) *6*16*100)\n",
    "print(len(ptcArr_16))\n",
    "\n",
    "count = 0\n",
    "parameter = 'Tip Res.'\n",
    "for cptID in df.index.get_level_values(0).unique():\n",
    "    for thickness in [0.5,1,1.5,2,2.5,3]:\n",
    "                \n",
    "        botArr = np.arange(0,25,0.25)\n",
    "        topArr = (botArr + thickness)\n",
    "\n",
    "        for threshold in range(5,20+1):\n",
    "            for elev1 , elev2 in zip(botArr,topArr):\n",
    "                    \n",
    "                    filt_1 = df.loc[cptID, 'Layer IDX'] == 'CCR'\n",
    "                    filt_2 = df.loc[cptID, 'Elevation'].between(elev1,elev2)\n",
    "                    filt_3 = df.loc[cptID, parameter] <= threshold\n",
    "                    df_filt = df.loc[cptID].loc[filt_1 & filt_2 & filt_3]\n",
    "                    ptcArr_16[count] = ( cptID, thickness ,  threshold , elev1, elev2  , len(df_filt) * 0.065 > 0.9*thickness)\n",
    "                    count +=1     "
   ]
  },
  {
   "cell_type": "markdown",
   "id": "7d621759",
   "metadata": {},
   "source": [
    "## P17 Iteration"
   ]
  },
  {
   "cell_type": "code",
   "execution_count": null,
   "id": "3ce7c728",
   "metadata": {},
   "outputs": [],
   "source": [
    "path = r'C:\\Users\\LPeve\\Desktop\\GEAG Seminar Talk\\P17'\n",
    "os.chdir(path)\n",
    "df = pd.read_csv('COMPILED_CPTs.csv', header=0,index_col = [0,1])    \n",
    "\n",
    "ptcArr_17 = [None] * ( len(df.index.get_level_values(0).unique()) *6*16*100)\n",
    "print(len(ptcArr_17))\n",
    "\n",
    "count = 0\n",
    "parameter = 'Tip Res.'\n",
    "for cptID in df.index.get_level_values(0).unique():\n",
    "    for thickness in [0.5,1,1.5,2,2.5,3]:\n",
    "                \n",
    "        botArr = np.arange(0,25,0.25)\n",
    "        topArr = (botArr + thickness)\n",
    "\n",
    "        for threshold in range(5,20+1):\n",
    "            for elev1 , elev2 in zip(botArr,topArr):\n",
    "                    \n",
    "                    filt_1 = df.loc[cptID, 'Layer IDX'] == 'CCR'\n",
    "                    filt_2 = df.loc[cptID, 'Elevation'].between(elev1,elev2)\n",
    "                    filt_3 = df.loc[cptID, parameter] <= threshold\n",
    "                    df_filt = df.loc[cptID].loc[filt_1 & filt_2 & filt_3]\n",
    "                    ptcArr_17[count] = ( cptID, thickness ,  threshold , elev1, elev2  , len(df_filt) * 0.065 > 0.9*thickness)\n",
    "                    count +=1     "
   ]
  },
  {
   "cell_type": "markdown",
   "id": "7113b77a",
   "metadata": {},
   "source": [
    "## P18 Iteration"
   ]
  },
  {
   "cell_type": "code",
   "execution_count": null,
   "id": "e839f3b2",
   "metadata": {},
   "outputs": [],
   "source": [
    "path = r'C:\\Users\\LPeve\\Desktop\\GEAG Seminar Talk\\P18'\n",
    "os.chdir(path)\n",
    "df = pd.read_csv('COMPILED_CPTs.csv', header=0,index_col = [0,1])    \n",
    "\n",
    "ptcArr_18 = [None] * ( len(df.index.get_level_values(0).unique()) *6*16*100)\n",
    "print(len(ptcArr_18))\n",
    "\n",
    "count = 0\n",
    "parameter = 'Tip Res.'\n",
    "for cptID in df.index.get_level_values(0).unique():\n",
    "    for thickness in [0.5,1,1.5,2,2.5,3]:\n",
    "                \n",
    "        botArr = np.arange(0,25,0.25)\n",
    "        topArr = (botArr + thickness)\n",
    "\n",
    "        for threshold in range(5,20+1):\n",
    "            for elev1 , elev2 in zip(botArr,topArr):\n",
    "                    \n",
    "                    filt_1 = df.loc[cptID, 'Layer IDX'] == 'CCR'\n",
    "                    filt_2 = df.loc[cptID, 'Elevation'].between(elev1,elev2)\n",
    "                    filt_3 = df.loc[cptID, parameter] <= threshold\n",
    "                    df_filt = df.loc[cptID].loc[filt_1 & filt_2 & filt_3]\n",
    "                    ptcArr_18[count] = ( cptID, thickness ,  threshold , elev1, elev2  , len(df_filt) * 0.065 > 0.9*thickness)\n",
    "                    count +=1     "
   ]
  },
  {
   "cell_type": "markdown",
   "id": "2b8d3ed3",
   "metadata": {},
   "source": [
    "df16 = pd.DataFrame(ptcArr_16)\n",
    "df16.head()\n",
    "df16.to_csv('P16_optimization.csv')"
   ]
  },
  {
   "cell_type": "code",
   "execution_count": null,
   "id": "db49e98a",
   "metadata": {},
   "outputs": [],
   "source": [
    "df17 = pd.DataFrame(ptcArr_17)\n",
    "df17.head()\n",
    "df17.to_csv('P17_optimization.csv')"
   ]
  },
  {
   "cell_type": "code",
   "execution_count": null,
   "id": "63629852",
   "metadata": {},
   "outputs": [],
   "source": [
    "df18 = pd.DataFrame(ptcArr_18)\n",
    "df18.head()\n",
    "df18.to_csv('P18_optimization.csv')"
   ]
  },
  {
   "cell_type": "code",
   "execution_count": null,
   "id": "7e1b40de",
   "metadata": {},
   "outputs": [],
   "source": [
    "37*6 * 100*16 \n"
   ]
  },
  {
   "cell_type": "code",
   "execution_count": null,
   "id": "32bfda44",
   "metadata": {},
   "outputs": [],
   "source": []
  }
 ],
 "metadata": {
  "kernelspec": {
   "display_name": "Python 3",
   "language": "python",
   "name": "python3"
  },
  "language_info": {
   "codemirror_mode": {
    "name": "ipython",
    "version": 3
   },
   "file_extension": ".py",
   "mimetype": "text/x-python",
   "name": "python",
   "nbconvert_exporter": "python",
   "pygments_lexer": "ipython3",
   "version": "3.8.11"
  }
 },
 "nbformat": 4,
 "nbformat_minor": 5
}
