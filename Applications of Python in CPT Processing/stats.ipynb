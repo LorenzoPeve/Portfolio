{
 "cells": [
  {
   "cell_type": "code",
   "execution_count": null,
   "id": "0bebdadc",
   "metadata": {},
   "outputs": [],
   "source": [
    "import pandas as pd\n",
    "import numpy as np\n",
    "import plotly.express as px\n",
    "import plotly\n",
    "import plotly.graph_objects as go\n",
    "%run plottingCPT.py"
   ]
  },
  {
   "cell_type": "code",
   "execution_count": null,
   "id": "ae8a7a13",
   "metadata": {},
   "outputs": [],
   "source": [
    "dfBOOL2 = pd.read_csv('P17_optimization.csv',header=0,usecols = [1,2,3,4,5,6])\n",
    "dfBOOL3 = pd.read_csv('P18_optimization.csv',header=0,usecols = [1,2,3,4,5,6])"
   ]
  },
  {
   "cell_type": "code",
   "execution_count": null,
   "id": "370871e3",
   "metadata": {},
   "outputs": [],
   "source": [
    "dfBOOL = pd.read_csv('P16_optimization.csv',header=0,usecols = [1,2,3,4,5,6])"
   ]
  },
  {
   "cell_type": "code",
   "execution_count": null,
   "id": "d59cecdf",
   "metadata": {},
   "outputs": [],
   "source": [
    "#DataFrame - Add Elevation range and Manipulate Columns\n",
    "dfBOOL['ElevRange'] = dfBOOL['3'].astype(str) + '-' + dfBOOL['4'].astype(str)\n",
    "dfBOOL.drop(columns = ['3','4'],inplace=True)\n",
    "dfBOOL.columns = ['CPT_ID','TargetThickness','Threshold', 'Pass/Fail','ElevRange']\n",
    "dfBOOL.set_index(['CPT_ID','TargetThickness','Threshold','ElevRange'],inplace=True)\n",
    "\n",
    "#Groupby Operations  \n",
    "dfBOOL_GRP = dfBOOL.groupby(level = [1,2,3])\n",
    "\n",
    "#Get percentage of CPTs satisfying the criterion\n",
    "df = dfBOOL_GRP.agg(lambda x : x.sum()/len(x))"
   ]
  },
  {
   "cell_type": "markdown",
   "id": "849269ad",
   "metadata": {},
   "source": [
    "## All Data - P16"
   ]
  },
  {
   "cell_type": "code",
   "execution_count": null,
   "id": "cb098bbb",
   "metadata": {
    "scrolled": false
   },
   "outputs": [],
   "source": [
    "#df = df.loc[ (df > 0.25).values]\n",
    "df.reset_index(level = [0,1,2],inplace=True)\n",
    "df.sort_values(by = ['ElevRange','Threshold','TargetThickness'] ,  ascending= True,  inplace=True)\n",
    "df.sort_values(by = ['ElevRange'] , ascending= True,  inplace=True,  key = lambda col : col.map(lambda x : float(x.split('-')[0])))"
   ]
  },
  {
   "cell_type": "markdown",
   "id": "adc9eba8",
   "metadata": {},
   "source": [
    "## All Data - P16"
   ]
  },
  {
   "cell_type": "code",
   "execution_count": null,
   "id": "bc1ddde6",
   "metadata": {
    "scrolled": false
   },
   "outputs": [],
   "source": [
    "for ii in np.sort(df['TargetThickness'].unique()):\n",
    "\n",
    "    #dfPLOT = df.loc[(df['TargetThickness'] == ii) &  (df['Threshold'] <= 10)]\n",
    "    dfPLOT = df.loc[df['TargetThickness'] == ii]\n",
    "    fig = go.Figure(data=go.Heatmap(\n",
    "                       z= dfPLOT['Pass/Fail']*100,\n",
    "                       x= dfPLOT['Threshold'],\n",
    "                       y= dfPLOT['ElevRange'], \n",
    "                       zmin = 0,\n",
    "                       zmax = 100,\n",
    "                       colorscale = plotly.colors.diverging.Portland,\n",
    "                       colorbar_x = 1.05,\n",
    "\n",
    "                        colorbar_title = dict(text              = 'Percentage of CPTs<br>Passing Criteria'),\n",
    "                        colorbar_ticklabelposition = 'outside bottom' ))\n",
    "\n",
    "\n",
    "    fig.update_layout(template = 'simple_white',font = dict(family = 'Arial', color = 'black'),\n",
    "                       title_text = 'Weak Layer Heatmap for TT = ' + str(ii))\n",
    "    fig.update_xaxes(tickmode = 'linear', dtick = 1, title = 'Tip Resistance Threshold Value (tsf)' )\n",
    "    fig.update_yaxes(title = 'Elevation Range (ft)' )\n",
    "    fig.show()"
   ]
  },
  {
   "cell_type": "markdown",
   "id": "4d2c844a",
   "metadata": {},
   "source": [
    "## Critical Scenarios"
   ]
  },
  {
   "cell_type": "code",
   "execution_count": null,
   "id": "bca0f30e",
   "metadata": {},
   "outputs": [],
   "source": [
    "cutArr = pd.cut(df['Threshold'], bins = [0,5,10,15], include_lowest = True)\n",
    "def top(df, n=5, column='Pass/Fail'):\n",
    "    return df.sort_values(by=column)[-n:]\n",
    "\n",
    "df_GRP = df.groupby( by =['TargetThickness',cutArr])\n",
    "#df_GRP.apply(top, n=2).head(50)\n",
    "df_GRP_FILT = df_GRP.apply(top, n=2)\n",
    "df_GRP_FILT.loc[df_GRP_FILT['Pass/Fail'] > 0.60]"
   ]
  },
  {
   "cell_type": "code",
   "execution_count": null,
   "id": "0bea65b2",
   "metadata": {
    "scrolled": true
   },
   "outputs": [],
   "source": [
    "df_GRP_FILT.loc[df_GRP_FILT['Pass/Fail'] > 0.60]"
   ]
  },
  {
   "cell_type": "markdown",
   "id": "09063575",
   "metadata": {},
   "source": [
    "## All Data - P16 [5-15]"
   ]
  },
  {
   "cell_type": "code",
   "execution_count": null,
   "id": "2b626048",
   "metadata": {
    "scrolled": true
   },
   "outputs": [],
   "source": [
    "df.head()"
   ]
  },
  {
   "cell_type": "code",
   "execution_count": null,
   "id": "c4114fba",
   "metadata": {
    "scrolled": false
   },
   "outputs": [],
   "source": [
    "for ii in np.sort(df['TargetThickness'].unique()):\n",
    "\n",
    "    dfPLOT = df.loc[df['TargetThickness'] == ii]\n",
    "    fig = go.Figure(data=go.Heatmap(\n",
    "                       z= dfPLOT['Pass/Fail']*100,\n",
    "                       x= dfPLOT['Threshold'],\n",
    "                       y= dfPLOT['ElevRange'], \n",
    "                       zmin = 0,\n",
    "                       zmax = 100,\n",
    "                       colorscale = plotly.colors.diverging.Portland,\n",
    "                       colorbar_x = 1.05,\n",
    "\n",
    "                        colorbar_title = dict(text              = 'Percentage of CPTs<br>Passing Criteria'),\n",
    "                        colorbar_ticklabelposition = 'outside bottom' ))\n",
    "\n",
    "\n",
    "    fig.update_layout(template = 'simple_white',font = dict(family = 'Arial', color = 'black'),\n",
    "                       title_text = 'Weak Layer Heatmap for TT = ' + str(ii))\n",
    "    fig.update_xaxes(tickmode = 'linear', dtick = 1, title = 'Tip Resistance Threshold Value (tsf)',\n",
    "                    range = [5,15])\n",
    "    fig.update_yaxes(title = 'Elevation Range (ft)' )\n",
    "    fig.show()"
   ]
  },
  {
   "cell_type": "code",
   "execution_count": null,
   "id": "5df32f74",
   "metadata": {},
   "outputs": [],
   "source": []
  },
  {
   "cell_type": "code",
   "execution_count": null,
   "id": "dd632718",
   "metadata": {},
   "outputs": [],
   "source": []
  },
  {
   "cell_type": "markdown",
   "id": "5b181cd6",
   "metadata": {},
   "source": [
    "## FILTERED P16"
   ]
  },
  {
   "cell_type": "code",
   "execution_count": null,
   "id": "2bebc24b",
   "metadata": {
    "scrolled": true
   },
   "outputs": [],
   "source": [
    "filt_pct = df['Pass/Fail'] > 0.15\n",
    "filt_STR = df['Threshold'] <= 10 \n",
    "df_filt = df.loc[filt_pct & filt_STR].copy()"
   ]
  },
  {
   "cell_type": "code",
   "execution_count": null,
   "id": "7e91c529",
   "metadata": {
    "scrolled": true
   },
   "outputs": [],
   "source": [
    "df_filt.head()"
   ]
  },
  {
   "cell_type": "code",
   "execution_count": null,
   "id": "391eedd7",
   "metadata": {},
   "outputs": [],
   "source": [
    "range(len(df['TargetThickness'].unique()))"
   ]
  },
  {
   "cell_type": "code",
   "execution_count": null,
   "id": "baf8de33",
   "metadata": {
    "scrolled": false
   },
   "outputs": [],
   "source": [
    "fig = make_subplots(rows=3, cols = 2,horizontal_spacing = 0.25,\n",
    "                    vertical_spacing= 0.1, shared_xaxes = True)\n",
    "\n",
    "rowCol = [(1,1),(1,2),(2,1),(2,2),(3,1),(3,2)]\n",
    "for ii, pos in zip(np.sort(df['TargetThickness'].unique()), range(len(df['TargetThickness'].unique()))):\n",
    "    \n",
    "    dfPLOT = df_filt.loc[df['TargetThickness'] == ii]\n",
    "    fig.add_trace(go.Heatmap(\n",
    "                       z= dfPLOT['Pass/Fail']*100,\n",
    "                       x= dfPLOT['Threshold'],\n",
    "                       y= dfPLOT['ElevRange'], \n",
    "                       zmin = 0,\n",
    "                       zmax = 100,\n",
    "                       #colorscale = plotly.colors.diverging.Portland,\n",
    "                       #colorbar_x = 1.05,\n",
    "                        #colorbar_title = dict(text= 'Percentage of CPTs<br>Passing Criteria'),\n",
    "                        #colorbar_ticklabelposition = 'outside bottom',\n",
    "                        coloraxis = 'coloraxis'),\n",
    "                        row = rowCol[pos][0],\n",
    "                        col = rowCol[pos][1])\n",
    "\n",
    "\n",
    "    fig.update_layout(template = 'simple_white',font = dict(family = 'Arial', color = 'black'),\n",
    "                       title_text = 'Weak Layer Heatmap for TT = ' + str(ii),\n",
    "                        xaxis5 = dict(title = 'Tip Resistance Threshold Value (tsf)'),\n",
    "                        xaxis6 = dict(title = 'Tip Resistance Threshold Value (tsf)'))\n",
    "    fig.update_coloraxes(colorscale = plotly.colors.diverging.Portland,\n",
    "                             colorbar_x = 1.05,\n",
    "                            colorbar_title = dict(text= 'Percentage of CPTs<br>Passing Criteria'),\n",
    "                        colorbar_ticklabelposition = 'outside bottom')\n",
    "     \n",
    "    fig.update_xaxes(dtick =1 , range = [5,10])\n",
    "    fig.update_yaxes(title = 'Elevation Range (ft)' )\n",
    "fig.show()"
   ]
  },
  {
   "cell_type": "code",
   "execution_count": null,
   "id": "21fd033d",
   "metadata": {},
   "outputs": [],
   "source": []
  },
  {
   "cell_type": "code",
   "execution_count": null,
   "id": "e5ed595a",
   "metadata": {},
   "outputs": [],
   "source": []
  }
 ],
 "metadata": {
  "kernelspec": {
   "display_name": "Python 3",
   "language": "python",
   "name": "python3"
  },
  "language_info": {
   "codemirror_mode": {
    "name": "ipython",
    "version": 3
   },
   "file_extension": ".py",
   "mimetype": "text/x-python",
   "name": "python",
   "nbconvert_exporter": "python",
   "pygments_lexer": "ipython3",
   "version": "3.8.11"
  }
 },
 "nbformat": 4,
 "nbformat_minor": 5
}
